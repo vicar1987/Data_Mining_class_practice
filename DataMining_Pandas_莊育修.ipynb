{
  "nbformat": 4,
  "nbformat_minor": 0,
  "metadata": {
    "kernelspec": {
      "display_name": "Python 3",
      "language": "python",
      "name": "python3"
    },
    "language_info": {
      "codemirror_mode": {
        "name": "ipython",
        "version": 3
      },
      "file_extension": ".py",
      "mimetype": "text/x-python",
      "name": "python",
      "nbconvert_exporter": "python",
      "pygments_lexer": "ipython3",
      "version": "3.8.5"
    },
    "toc": {
      "base_numbering": 1,
      "nav_menu": {},
      "number_sections": true,
      "sideBar": true,
      "skip_h1_title": false,
      "title_cell": "Table of Contents",
      "title_sidebar": "Contents",
      "toc_cell": false,
      "toc_position": {},
      "toc_section_display": true,
      "toc_window_display": false
    },
    "varInspector": {
      "cols": {
        "lenName": 16,
        "lenType": 16,
        "lenVar": 40
      },
      "kernels_config": {
        "python": {
          "delete_cmd_postfix": "",
          "delete_cmd_prefix": "del ",
          "library": "var_list.py",
          "varRefreshCmd": "print(var_dic_list())"
        },
        "r": {
          "delete_cmd_postfix": ") ",
          "delete_cmd_prefix": "rm(",
          "library": "var_list.r",
          "varRefreshCmd": "cat(var_dic_list()) "
        }
      },
      "types_to_exclude": [
        "module",
        "function",
        "builtin_function_or_method",
        "instance",
        "_Feature"
      ],
      "window_display": false
    },
    "colab": {
      "name": "DataMining_Pandas_莊育修.ipynb",
      "provenance": [],
      "include_colab_link": true
    }
  },
  "cells": [
    {
      "cell_type": "markdown",
      "metadata": {
        "id": "view-in-github",
        "colab_type": "text"
      },
      "source": [
        "<a href=\"https://colab.research.google.com/github/vicar1987/Data_Mining_class_practice/blob/main/DataMining_Pandas_%E8%8E%8A%E8%82%B2%E4%BF%AE.ipynb\" target=\"_parent\"><img src=\"https://colab.research.google.com/assets/colab-badge.svg\" alt=\"Open In Colab\"/></a>"
      ]
    },
    {
      "cell_type": "markdown",
      "metadata": {
        "id": "rS9E-KcjMsuq"
      },
      "source": [
        "利用給各位的 employees.csv\n",
        "1. 讀入data frame，稱為 data\n",
        "2. sort by 'First Name'\n",
        "3. 檢查有沒有 'First Name' 重複，以bool_series儲存之\n",
        "4. 除去Duplications\n",
        "5. 印出 data.head() data.info()\n",
        "(如無把握請參考 Tibame_NDarrayIntro.ipynb )"
      ]
    },
    {
      "cell_type": "code",
      "metadata": {
        "ExecuteTime": {
          "end_time": "2021-05-12T03:38:00.972255Z",
          "start_time": "2021-05-12T03:38:00.691680Z"
        },
        "id": "w6rz3-tiMsu5",
        "outputId": "c24c7870-42bc-41cc-b76e-088467b5e7c6"
      },
      "source": [
        "import pandas as pd\n",
        "data = pd.read_csv(\"./employees.csv\") \n",
        "print(data)"
      ],
      "execution_count": null,
      "outputs": [
        {
          "name": "stdout",
          "output_type": "stream",
          "text": [
            "    First Name  Gender  Start Date Last Login Time  Salary  Bonus %  \\\n",
            "0      Douglas    Male    8/6/1993        12:42 PM   97308    6.945   \n",
            "1       Thomas    Male   3/31/1996         6:53 AM   61933    4.170   \n",
            "2        Maria  Female   4/23/1993        11:17 AM  130590   11.858   \n",
            "3        Jerry    Male    3/4/2005         1:00 PM  138705    9.340   \n",
            "4        Larry    Male   1/24/1998         4:47 PM  101004    1.389   \n",
            "..         ...     ...         ...             ...     ...      ...   \n",
            "995      Henry     NaN  11/23/2014         6:09 AM  132483   16.655   \n",
            "996    Phillip    Male   1/31/1984         6:30 AM   42392   19.675   \n",
            "997    Russell    Male   5/20/2013        12:39 PM   96914    1.421   \n",
            "998      Larry    Male   4/20/2013         4:45 PM   60500   11.985   \n",
            "999     Albert    Male   5/15/2012         6:24 PM  129949   10.169   \n",
            "\n",
            "    Senior Management                  Team  \n",
            "0                True             Marketing  \n",
            "1                True                   NaN  \n",
            "2               False               Finance  \n",
            "3                True               Finance  \n",
            "4                True       Client Services  \n",
            "..                ...                   ...  \n",
            "995             False          Distribution  \n",
            "996             False               Finance  \n",
            "997             False               Product  \n",
            "998             False  Business Development  \n",
            "999              True                 Sales  \n",
            "\n",
            "[1000 rows x 8 columns]\n"
          ]
        }
      ]
    },
    {
      "cell_type": "code",
      "metadata": {
        "ExecuteTime": {
          "end_time": "2021-05-12T03:36:49.611484Z",
          "start_time": "2021-05-12T03:36:49.584484Z"
        },
        "id": "y5eQ7HsqMsu_",
        "outputId": "97c54059-17a2-4352-d84e-2c68b72d06fb"
      },
      "source": [
        "data[['First Name']]"
      ],
      "execution_count": null,
      "outputs": [
        {
          "data": {
            "text/html": [
              "<div>\n",
              "<style scoped>\n",
              "    .dataframe tbody tr th:only-of-type {\n",
              "        vertical-align: middle;\n",
              "    }\n",
              "\n",
              "    .dataframe tbody tr th {\n",
              "        vertical-align: top;\n",
              "    }\n",
              "\n",
              "    .dataframe thead th {\n",
              "        text-align: right;\n",
              "    }\n",
              "</style>\n",
              "<table border=\"1\" class=\"dataframe\">\n",
              "  <thead>\n",
              "    <tr style=\"text-align: right;\">\n",
              "      <th></th>\n",
              "      <th>First Name</th>\n",
              "    </tr>\n",
              "  </thead>\n",
              "  <tbody>\n",
              "    <tr>\n",
              "      <th>0</th>\n",
              "      <td>Douglas</td>\n",
              "    </tr>\n",
              "    <tr>\n",
              "      <th>1</th>\n",
              "      <td>Thomas</td>\n",
              "    </tr>\n",
              "    <tr>\n",
              "      <th>2</th>\n",
              "      <td>Maria</td>\n",
              "    </tr>\n",
              "    <tr>\n",
              "      <th>3</th>\n",
              "      <td>Jerry</td>\n",
              "    </tr>\n",
              "    <tr>\n",
              "      <th>4</th>\n",
              "      <td>Larry</td>\n",
              "    </tr>\n",
              "    <tr>\n",
              "      <th>...</th>\n",
              "      <td>...</td>\n",
              "    </tr>\n",
              "    <tr>\n",
              "      <th>995</th>\n",
              "      <td>Henry</td>\n",
              "    </tr>\n",
              "    <tr>\n",
              "      <th>996</th>\n",
              "      <td>Phillip</td>\n",
              "    </tr>\n",
              "    <tr>\n",
              "      <th>997</th>\n",
              "      <td>Russell</td>\n",
              "    </tr>\n",
              "    <tr>\n",
              "      <th>998</th>\n",
              "      <td>Larry</td>\n",
              "    </tr>\n",
              "    <tr>\n",
              "      <th>999</th>\n",
              "      <td>Albert</td>\n",
              "    </tr>\n",
              "  </tbody>\n",
              "</table>\n",
              "<p>1000 rows × 1 columns</p>\n",
              "</div>"
            ],
            "text/plain": [
              "    First Name\n",
              "0      Douglas\n",
              "1       Thomas\n",
              "2        Maria\n",
              "3        Jerry\n",
              "4        Larry\n",
              "..         ...\n",
              "995      Henry\n",
              "996    Phillip\n",
              "997    Russell\n",
              "998      Larry\n",
              "999     Albert\n",
              "\n",
              "[1000 rows x 1 columns]"
            ]
          },
          "execution_count": 2,
          "metadata": {},
          "output_type": "execute_result"
        }
      ]
    },
    {
      "cell_type": "code",
      "metadata": {
        "ExecuteTime": {
          "end_time": "2021-05-12T03:38:40.367669Z",
          "start_time": "2021-05-12T03:38:40.343253Z"
        },
        "id": "QRzv8SvGMsvA",
        "outputId": "4fcb3983-c761-4f14-8c85-d946a3c33c37"
      },
      "source": [
        "data.sort_values(\"First Name\", inplace = True) \n",
        "data.head()"
      ],
      "execution_count": null,
      "outputs": [
        {
          "data": {
            "text/html": [
              "<div>\n",
              "<style scoped>\n",
              "    .dataframe tbody tr th:only-of-type {\n",
              "        vertical-align: middle;\n",
              "    }\n",
              "\n",
              "    .dataframe tbody tr th {\n",
              "        vertical-align: top;\n",
              "    }\n",
              "\n",
              "    .dataframe thead th {\n",
              "        text-align: right;\n",
              "    }\n",
              "</style>\n",
              "<table border=\"1\" class=\"dataframe\">\n",
              "  <thead>\n",
              "    <tr style=\"text-align: right;\">\n",
              "      <th></th>\n",
              "      <th>First Name</th>\n",
              "      <th>Gender</th>\n",
              "      <th>Start Date</th>\n",
              "      <th>Last Login Time</th>\n",
              "      <th>Salary</th>\n",
              "      <th>Bonus %</th>\n",
              "      <th>Senior Management</th>\n",
              "      <th>Team</th>\n",
              "    </tr>\n",
              "  </thead>\n",
              "  <tbody>\n",
              "    <tr>\n",
              "      <th>101</th>\n",
              "      <td>Aaron</td>\n",
              "      <td>Male</td>\n",
              "      <td>2/17/2012</td>\n",
              "      <td>10:20 AM</td>\n",
              "      <td>61602</td>\n",
              "      <td>11.849</td>\n",
              "      <td>True</td>\n",
              "      <td>Marketing</td>\n",
              "    </tr>\n",
              "    <tr>\n",
              "      <th>327</th>\n",
              "      <td>Aaron</td>\n",
              "      <td>Male</td>\n",
              "      <td>1/29/1994</td>\n",
              "      <td>6:48 PM</td>\n",
              "      <td>58755</td>\n",
              "      <td>5.097</td>\n",
              "      <td>True</td>\n",
              "      <td>Marketing</td>\n",
              "    </tr>\n",
              "    <tr>\n",
              "      <th>440</th>\n",
              "      <td>Aaron</td>\n",
              "      <td>Male</td>\n",
              "      <td>7/22/1990</td>\n",
              "      <td>2:53 PM</td>\n",
              "      <td>52119</td>\n",
              "      <td>11.343</td>\n",
              "      <td>True</td>\n",
              "      <td>Client Services</td>\n",
              "    </tr>\n",
              "    <tr>\n",
              "      <th>937</th>\n",
              "      <td>Aaron</td>\n",
              "      <td>NaN</td>\n",
              "      <td>1/22/1986</td>\n",
              "      <td>7:39 PM</td>\n",
              "      <td>63126</td>\n",
              "      <td>18.424</td>\n",
              "      <td>False</td>\n",
              "      <td>Client Services</td>\n",
              "    </tr>\n",
              "    <tr>\n",
              "      <th>137</th>\n",
              "      <td>Adam</td>\n",
              "      <td>Male</td>\n",
              "      <td>5/21/2011</td>\n",
              "      <td>1:45 AM</td>\n",
              "      <td>95327</td>\n",
              "      <td>15.120</td>\n",
              "      <td>False</td>\n",
              "      <td>Distribution</td>\n",
              "    </tr>\n",
              "  </tbody>\n",
              "</table>\n",
              "</div>"
            ],
            "text/plain": [
              "    First Name Gender Start Date Last Login Time  Salary  Bonus %  \\\n",
              "101      Aaron   Male  2/17/2012        10:20 AM   61602   11.849   \n",
              "327      Aaron   Male  1/29/1994         6:48 PM   58755    5.097   \n",
              "440      Aaron   Male  7/22/1990         2:53 PM   52119   11.343   \n",
              "937      Aaron    NaN  1/22/1986         7:39 PM   63126   18.424   \n",
              "137       Adam   Male  5/21/2011         1:45 AM   95327   15.120   \n",
              "\n",
              "    Senior Management             Team  \n",
              "101              True        Marketing  \n",
              "327              True        Marketing  \n",
              "440              True  Client Services  \n",
              "937             False  Client Services  \n",
              "137             False     Distribution  "
            ]
          },
          "execution_count": 3,
          "metadata": {},
          "output_type": "execute_result"
        }
      ]
    },
    {
      "cell_type": "code",
      "metadata": {
        "ExecuteTime": {
          "end_time": "2021-05-12T03:39:12.233434Z",
          "start_time": "2021-05-12T03:39:12.225920Z"
        },
        "id": "y6L6DfRZMsvA",
        "outputId": "18cc2790-227f-4088-c8c3-2ab0028b8d24"
      },
      "source": [
        "bool_series = data[\"First Name\"].duplicated() \n",
        "bool_series"
      ],
      "execution_count": null,
      "outputs": [
        {
          "data": {
            "text/plain": [
              "101    False\n",
              "327     True\n",
              "440     True\n",
              "937     True\n",
              "137    False\n",
              "       ...  \n",
              "902     True\n",
              "925     True\n",
              "946     True\n",
              "947     True\n",
              "951     True\n",
              "Name: First Name, Length: 1000, dtype: bool"
            ]
          },
          "execution_count": 4,
          "metadata": {},
          "output_type": "execute_result"
        }
      ]
    },
    {
      "cell_type": "code",
      "metadata": {
        "ExecuteTime": {
          "end_time": "2021-05-12T04:24:48.965194Z",
          "start_time": "2021-05-12T04:24:48.941264Z"
        },
        "id": "Qw9g9tvLMsvB",
        "outputId": "1095468e-c186-4565-b886-8efe658d74b6"
      },
      "source": [
        "data['bool_series'] = bool_series\n",
        "print(data.head()) "
      ],
      "execution_count": null,
      "outputs": [
        {
          "name": "stdout",
          "output_type": "stream",
          "text": [
            "    First Name Gender Start Date Last Login Time  Salary  Bonus %  \\\n",
            "101      Aaron   Male  2/17/2012        10:20 AM   61602   11.849   \n",
            "327      Aaron   Male  1/29/1994         6:48 PM   58755    5.097   \n",
            "440      Aaron   Male  7/22/1990         2:53 PM   52119   11.343   \n",
            "937      Aaron    NaN  1/22/1986         7:39 PM   63126   18.424   \n",
            "137       Adam   Male  5/21/2011         1:45 AM   95327   15.120   \n",
            "\n",
            "    Senior Management             Team  bool_series  \n",
            "101              True        Marketing        False  \n",
            "327              True        Marketing         True  \n",
            "440              True  Client Services         True  \n",
            "937             False  Client Services         True  \n",
            "137             False     Distribution        False  \n"
          ]
        }
      ]
    },
    {
      "cell_type": "code",
      "metadata": {
        "ExecuteTime": {
          "end_time": "2021-05-12T04:31:50.496948Z",
          "start_time": "2021-05-12T04:31:50.453440Z"
        },
        "id": "cA12orSnMsvC",
        "outputId": "5d822bf0-4c4a-4d6f-c510-c9c73e781ab8"
      },
      "source": [
        "data = data[~bool_series] \n",
        "print(data.info())\n",
        "print(data.head())\n",
        "data"
      ],
      "execution_count": null,
      "outputs": [
        {
          "name": "stdout",
          "output_type": "stream",
          "text": [
            "<class 'pandas.core.frame.DataFrame'>\n",
            "Int64Index: 201 entries, 101 to 7\n",
            "Data columns (total 9 columns):\n",
            " #   Column             Non-Null Count  Dtype  \n",
            "---  ------             --------------  -----  \n",
            " 0   First Name         200 non-null    object \n",
            " 1   Gender             171 non-null    object \n",
            " 2   Start Date         201 non-null    object \n",
            " 3   Last Login Time    201 non-null    object \n",
            " 4   Salary             201 non-null    int64  \n",
            " 5   Bonus %            201 non-null    float64\n",
            " 6   Senior Management  200 non-null    object \n",
            " 7   Team               194 non-null    object \n",
            " 8   bool_series        201 non-null    bool   \n",
            "dtypes: bool(1), float64(1), int64(1), object(6)\n",
            "memory usage: 14.3+ KB\n",
            "None\n",
            "    First Name  Gender Start Date Last Login Time  Salary  Bonus %  \\\n",
            "101      Aaron    Male  2/17/2012        10:20 AM   61602   11.849   \n",
            "137       Adam    Male  5/21/2011         1:45 AM   95327   15.120   \n",
            "300       Alan    Male  6/26/1988         3:54 AM  111786    3.592   \n",
            "959     Albert    Male  9/19/1992         2:35 AM   45094    5.850   \n",
            "988      Alice  Female  10/5/2004         9:34 AM   47638   11.209   \n",
            "\n",
            "    Senior Management                  Team  bool_series  \n",
            "101              True             Marketing        False  \n",
            "137             False          Distribution        False  \n",
            "300              True           Engineering        False  \n",
            "959              True  Business Development        False  \n",
            "988             False       Human Resources        False  \n"
          ]
        },
        {
          "name": "stderr",
          "output_type": "stream",
          "text": [
            "<ipython-input-12-6c6062e54d56>:1: UserWarning: Boolean Series key will be reindexed to match DataFrame index.\n",
            "  data = data[~bool_series]\n"
          ]
        },
        {
          "data": {
            "text/html": [
              "<div>\n",
              "<style scoped>\n",
              "    .dataframe tbody tr th:only-of-type {\n",
              "        vertical-align: middle;\n",
              "    }\n",
              "\n",
              "    .dataframe tbody tr th {\n",
              "        vertical-align: top;\n",
              "    }\n",
              "\n",
              "    .dataframe thead th {\n",
              "        text-align: right;\n",
              "    }\n",
              "</style>\n",
              "<table border=\"1\" class=\"dataframe\">\n",
              "  <thead>\n",
              "    <tr style=\"text-align: right;\">\n",
              "      <th></th>\n",
              "      <th>First Name</th>\n",
              "      <th>Gender</th>\n",
              "      <th>Start Date</th>\n",
              "      <th>Last Login Time</th>\n",
              "      <th>Salary</th>\n",
              "      <th>Bonus %</th>\n",
              "      <th>Senior Management</th>\n",
              "      <th>Team</th>\n",
              "      <th>bool_series</th>\n",
              "    </tr>\n",
              "  </thead>\n",
              "  <tbody>\n",
              "    <tr>\n",
              "      <th>101</th>\n",
              "      <td>Aaron</td>\n",
              "      <td>Male</td>\n",
              "      <td>2/17/2012</td>\n",
              "      <td>10:20 AM</td>\n",
              "      <td>61602</td>\n",
              "      <td>11.849</td>\n",
              "      <td>True</td>\n",
              "      <td>Marketing</td>\n",
              "      <td>False</td>\n",
              "    </tr>\n",
              "    <tr>\n",
              "      <th>137</th>\n",
              "      <td>Adam</td>\n",
              "      <td>Male</td>\n",
              "      <td>5/21/2011</td>\n",
              "      <td>1:45 AM</td>\n",
              "      <td>95327</td>\n",
              "      <td>15.120</td>\n",
              "      <td>False</td>\n",
              "      <td>Distribution</td>\n",
              "      <td>False</td>\n",
              "    </tr>\n",
              "    <tr>\n",
              "      <th>300</th>\n",
              "      <td>Alan</td>\n",
              "      <td>Male</td>\n",
              "      <td>6/26/1988</td>\n",
              "      <td>3:54 AM</td>\n",
              "      <td>111786</td>\n",
              "      <td>3.592</td>\n",
              "      <td>True</td>\n",
              "      <td>Engineering</td>\n",
              "      <td>False</td>\n",
              "    </tr>\n",
              "    <tr>\n",
              "      <th>959</th>\n",
              "      <td>Albert</td>\n",
              "      <td>Male</td>\n",
              "      <td>9/19/1992</td>\n",
              "      <td>2:35 AM</td>\n",
              "      <td>45094</td>\n",
              "      <td>5.850</td>\n",
              "      <td>True</td>\n",
              "      <td>Business Development</td>\n",
              "      <td>False</td>\n",
              "    </tr>\n",
              "    <tr>\n",
              "      <th>988</th>\n",
              "      <td>Alice</td>\n",
              "      <td>Female</td>\n",
              "      <td>10/5/2004</td>\n",
              "      <td>9:34 AM</td>\n",
              "      <td>47638</td>\n",
              "      <td>11.209</td>\n",
              "      <td>False</td>\n",
              "      <td>Human Resources</td>\n",
              "      <td>False</td>\n",
              "    </tr>\n",
              "    <tr>\n",
              "      <th>...</th>\n",
              "      <td>...</td>\n",
              "      <td>...</td>\n",
              "      <td>...</td>\n",
              "      <td>...</td>\n",
              "      <td>...</td>\n",
              "      <td>...</td>\n",
              "      <td>...</td>\n",
              "      <td>...</td>\n",
              "      <td>...</td>\n",
              "    </tr>\n",
              "    <tr>\n",
              "      <th>512</th>\n",
              "      <td>Wanda</td>\n",
              "      <td>Female</td>\n",
              "      <td>4/6/1993</td>\n",
              "      <td>3:11 AM</td>\n",
              "      <td>78883</td>\n",
              "      <td>19.695</td>\n",
              "      <td>False</td>\n",
              "      <td>NaN</td>\n",
              "      <td>False</td>\n",
              "    </tr>\n",
              "    <tr>\n",
              "      <th>943</th>\n",
              "      <td>Wayne</td>\n",
              "      <td>Male</td>\n",
              "      <td>9/8/2006</td>\n",
              "      <td>11:09 AM</td>\n",
              "      <td>67471</td>\n",
              "      <td>2.728</td>\n",
              "      <td>False</td>\n",
              "      <td>Engineering</td>\n",
              "      <td>False</td>\n",
              "    </tr>\n",
              "    <tr>\n",
              "      <th>941</th>\n",
              "      <td>William</td>\n",
              "      <td>Male</td>\n",
              "      <td>6/26/1997</td>\n",
              "      <td>8:33 AM</td>\n",
              "      <td>104840</td>\n",
              "      <td>15.653</td>\n",
              "      <td>True</td>\n",
              "      <td>Engineering</td>\n",
              "      <td>False</td>\n",
              "    </tr>\n",
              "    <tr>\n",
              "      <th>175</th>\n",
              "      <td>Willie</td>\n",
              "      <td>Male</td>\n",
              "      <td>2/17/1998</td>\n",
              "      <td>8:20 PM</td>\n",
              "      <td>146651</td>\n",
              "      <td>1.451</td>\n",
              "      <td>True</td>\n",
              "      <td>Engineering</td>\n",
              "      <td>False</td>\n",
              "    </tr>\n",
              "    <tr>\n",
              "      <th>7</th>\n",
              "      <td>NaN</td>\n",
              "      <td>Female</td>\n",
              "      <td>7/20/2015</td>\n",
              "      <td>10:43 AM</td>\n",
              "      <td>45906</td>\n",
              "      <td>11.598</td>\n",
              "      <td>NaN</td>\n",
              "      <td>Finance</td>\n",
              "      <td>False</td>\n",
              "    </tr>\n",
              "  </tbody>\n",
              "</table>\n",
              "<p>201 rows × 9 columns</p>\n",
              "</div>"
            ],
            "text/plain": [
              "    First Name  Gender Start Date Last Login Time  Salary  Bonus %  \\\n",
              "101      Aaron    Male  2/17/2012        10:20 AM   61602   11.849   \n",
              "137       Adam    Male  5/21/2011         1:45 AM   95327   15.120   \n",
              "300       Alan    Male  6/26/1988         3:54 AM  111786    3.592   \n",
              "959     Albert    Male  9/19/1992         2:35 AM   45094    5.850   \n",
              "988      Alice  Female  10/5/2004         9:34 AM   47638   11.209   \n",
              "..         ...     ...        ...             ...     ...      ...   \n",
              "512      Wanda  Female   4/6/1993         3:11 AM   78883   19.695   \n",
              "943      Wayne    Male   9/8/2006        11:09 AM   67471    2.728   \n",
              "941    William    Male  6/26/1997         8:33 AM  104840   15.653   \n",
              "175     Willie    Male  2/17/1998         8:20 PM  146651    1.451   \n",
              "7          NaN  Female  7/20/2015        10:43 AM   45906   11.598   \n",
              "\n",
              "    Senior Management                  Team  bool_series  \n",
              "101              True             Marketing        False  \n",
              "137             False          Distribution        False  \n",
              "300              True           Engineering        False  \n",
              "959              True  Business Development        False  \n",
              "988             False       Human Resources        False  \n",
              "..                ...                   ...          ...  \n",
              "512             False                   NaN        False  \n",
              "943             False           Engineering        False  \n",
              "941              True           Engineering        False  \n",
              "175              True           Engineering        False  \n",
              "7                 NaN               Finance        False  \n",
              "\n",
              "[201 rows x 9 columns]"
            ]
          },
          "execution_count": 12,
          "metadata": {},
          "output_type": "execute_result"
        }
      ]
    }
  ]
}