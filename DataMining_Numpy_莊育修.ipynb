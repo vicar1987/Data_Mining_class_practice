{
  "nbformat": 4,
  "nbformat_minor": 0,
  "metadata": {
    "kernelspec": {
      "display_name": "Python 3",
      "language": "python",
      "name": "python3"
    },
    "language_info": {
      "codemirror_mode": {
        "name": "ipython",
        "version": 3
      },
      "file_extension": ".py",
      "mimetype": "text/x-python",
      "name": "python",
      "nbconvert_exporter": "python",
      "pygments_lexer": "ipython3",
      "version": "3.8.5"
    },
    "toc": {
      "base_numbering": 1,
      "nav_menu": {},
      "number_sections": true,
      "sideBar": true,
      "skip_h1_title": false,
      "title_cell": "Table of Contents",
      "title_sidebar": "Contents",
      "toc_cell": false,
      "toc_position": {},
      "toc_section_display": true,
      "toc_window_display": false
    },
    "varInspector": {
      "cols": {
        "lenName": 16,
        "lenType": 16,
        "lenVar": 40
      },
      "kernels_config": {
        "python": {
          "delete_cmd_postfix": "",
          "delete_cmd_prefix": "del ",
          "library": "var_list.py",
          "varRefreshCmd": "print(var_dic_list())"
        },
        "r": {
          "delete_cmd_postfix": ") ",
          "delete_cmd_prefix": "rm(",
          "library": "var_list.r",
          "varRefreshCmd": "cat(var_dic_list()) "
        }
      },
      "types_to_exclude": [
        "module",
        "function",
        "builtin_function_or_method",
        "instance",
        "_Feature"
      ],
      "window_display": false
    },
    "colab": {
      "name": "DataMining_Numpy_莊育修.ipynb",
      "provenance": [],
      "include_colab_link": true
    }
  },
  "cells": [
    {
      "cell_type": "markdown",
      "metadata": {
        "id": "view-in-github",
        "colab_type": "text"
      },
      "source": [
        "<a href=\"https://colab.research.google.com/github/vicar1987/Data_Mining_class_practice/blob/main/DataMining_Numpy_%E8%8E%8A%E8%82%B2%E4%BF%AE.ipynb\" target=\"_parent\"><img src=\"https://colab.research.google.com/assets/colab-badge.svg\" alt=\"Open In Colab\"/></a>"
      ]
    },
    {
      "cell_type": "code",
      "metadata": {
        "id": "8g86BlYBNRcX"
      },
      "source": [
        "#寫程式計算以下值\n",
        "import numpy as np\n",
        "x = np.array([[1, 3, 5], [2, 4, 6]], np.int32)\n",
        "#計算\n",
        "#type(x)\n",
        "#x.shape\n",
        "#x.dtype\n",
        "#x[:,1]\n",
        "A = np.array([[3,2],[0,1]])\n",
        "B = np.array([[3,1],[2,1]])\n",
        "#求\n",
        "#A+B\n",
        "#A*B\n",
        "#A@B\n",
        "#A的轉置矩陣\n",
        "#B的反矩陣"
      ],
      "execution_count": null,
      "outputs": []
    },
    {
      "cell_type": "code",
      "metadata": {
        "ExecuteTime": {
          "end_time": "2021-05-12T02:57:16.712056Z",
          "start_time": "2021-05-12T02:57:16.706074Z"
        },
        "id": "-psnemaHNRca"
      },
      "source": [
        "import numpy as np"
      ],
      "execution_count": null,
      "outputs": []
    },
    {
      "cell_type": "code",
      "metadata": {
        "ExecuteTime": {
          "end_time": "2021-05-12T02:57:19.272699Z",
          "start_time": "2021-05-12T02:57:19.255779Z"
        },
        "id": "4Ev4VoG2NRcc"
      },
      "source": [
        "x = np.array([[1, 3, 5], [2, 4, 6]], np.int32)"
      ],
      "execution_count": null,
      "outputs": []
    },
    {
      "cell_type": "code",
      "metadata": {
        "ExecuteTime": {
          "end_time": "2021-05-12T02:57:20.675431Z",
          "start_time": "2021-05-12T02:57:20.660450Z"
        },
        "id": "VOVNGEbbNRcd",
        "outputId": "8efbdf7c-684f-490e-c03e-e0032e0e2f63"
      },
      "source": [
        "type(x)"
      ],
      "execution_count": null,
      "outputs": [
        {
          "data": {
            "text/plain": [
              "numpy.ndarray"
            ]
          },
          "execution_count": 3,
          "metadata": {},
          "output_type": "execute_result"
        }
      ]
    },
    {
      "cell_type": "code",
      "metadata": {
        "ExecuteTime": {
          "end_time": "2021-05-12T02:57:32.832680Z",
          "start_time": "2021-05-12T02:57:32.820260Z"
        },
        "id": "Ckbrt_1PNRct",
        "outputId": "32ee6b94-c47b-41a0-ee08-c8f13e977c60"
      },
      "source": [
        "x.shape #形狀(矩陣中的維度及各維度大小)"
      ],
      "execution_count": null,
      "outputs": [
        {
          "data": {
            "text/plain": [
              "(2, 3)"
            ]
          },
          "execution_count": 4,
          "metadata": {},
          "output_type": "execute_result"
        }
      ]
    },
    {
      "cell_type": "code",
      "metadata": {
        "ExecuteTime": {
          "end_time": "2021-05-12T02:57:42.357245Z",
          "start_time": "2021-05-12T02:57:42.352258Z"
        },
        "id": "E18bHTCGNRct",
        "outputId": "45a4251d-a70c-4b00-fd62-161fa5395f6c"
      },
      "source": [
        "x.dtype #資料類別"
      ],
      "execution_count": null,
      "outputs": [
        {
          "data": {
            "text/plain": [
              "dtype('int32')"
            ]
          },
          "execution_count": 5,
          "metadata": {},
          "output_type": "execute_result"
        }
      ]
    },
    {
      "cell_type": "code",
      "metadata": {
        "ExecuteTime": {
          "end_time": "2021-05-12T02:57:54.148449Z",
          "start_time": "2021-05-12T02:57:54.129450Z"
        },
        "id": "TBZoAqvNNRcu",
        "outputId": "cac4ea94-3d23-4b97-9ffa-0598f381d096"
      },
      "source": [
        "x[:,1] \n",
        "#只取中間那一行\n",
        "#[1 ,3 ,5]\n",
        "#[2 ,4 ,6]"
      ],
      "execution_count": null,
      "outputs": [
        {
          "data": {
            "text/plain": [
              "array([3, 4])"
            ]
          },
          "execution_count": 6,
          "metadata": {},
          "output_type": "execute_result"
        }
      ]
    },
    {
      "cell_type": "code",
      "metadata": {
        "id": "DSHESlufNRcy"
      },
      "source": [
        ""
      ],
      "execution_count": null,
      "outputs": []
    },
    {
      "cell_type": "code",
      "metadata": {
        "ExecuteTime": {
          "end_time": "2021-05-12T03:03:22.868402Z",
          "start_time": "2021-05-12T03:03:22.863726Z"
        },
        "id": "t8H7OobmNRcz"
      },
      "source": [
        "A = np.array([[3,2],[0,1]])\n",
        "B = np.array([[3,1],[2,1]])"
      ],
      "execution_count": null,
      "outputs": []
    },
    {
      "cell_type": "code",
      "metadata": {
        "ExecuteTime": {
          "end_time": "2021-05-12T03:03:32.107806Z",
          "start_time": "2021-05-12T03:03:32.092322Z"
        },
        "id": "2E2jc_0BNRc0",
        "outputId": "3ac07ca5-6090-475c-876f-c41d9cba1943"
      },
      "source": [
        "A + B"
      ],
      "execution_count": null,
      "outputs": [
        {
          "data": {
            "text/plain": [
              "array([[6, 3],\n",
              "       [2, 2]])"
            ]
          },
          "execution_count": 8,
          "metadata": {},
          "output_type": "execute_result"
        }
      ]
    },
    {
      "cell_type": "code",
      "metadata": {
        "ExecuteTime": {
          "end_time": "2021-05-12T03:03:51.425561Z",
          "start_time": "2021-05-12T03:03:51.404595Z"
        },
        "id": "h92AfZ7LNRc1",
        "outputId": "37d17c18-38b0-47d3-d5fc-0312b0d2e755"
      },
      "source": [
        "A * B"
      ],
      "execution_count": null,
      "outputs": [
        {
          "data": {
            "text/plain": [
              "array([[9, 2],\n",
              "       [0, 1]])"
            ]
          },
          "execution_count": 9,
          "metadata": {},
          "output_type": "execute_result"
        }
      ]
    },
    {
      "cell_type": "code",
      "metadata": {
        "ExecuteTime": {
          "end_time": "2021-05-12T03:04:02.404605Z",
          "start_time": "2021-05-12T03:04:02.393478Z"
        },
        "id": "4-r-KMpONRc2",
        "outputId": "86bc860e-ebf7-4201-f1f6-66418b07af8c"
      },
      "source": [
        "A @ B"
      ],
      "execution_count": null,
      "outputs": [
        {
          "data": {
            "text/plain": [
              "array([[13,  5],\n",
              "       [ 2,  1]])"
            ]
          },
          "execution_count": 10,
          "metadata": {},
          "output_type": "execute_result"
        }
      ]
    },
    {
      "cell_type": "code",
      "metadata": {
        "ExecuteTime": {
          "end_time": "2021-05-12T03:16:47.740526Z",
          "start_time": "2021-05-12T03:16:47.722537Z"
        },
        "id": "eC_gQAXJNRc2",
        "outputId": "8cff042c-7388-43a7-8518-9946067d28fc"
      },
      "source": [
        "A.transpose() #A的轉置矩陣"
      ],
      "execution_count": null,
      "outputs": [
        {
          "data": {
            "text/plain": [
              "array([[3, 0],\n",
              "       [2, 1]])"
            ]
          },
          "execution_count": 16,
          "metadata": {},
          "output_type": "execute_result"
        }
      ]
    },
    {
      "cell_type": "code",
      "metadata": {
        "ExecuteTime": {
          "end_time": "2021-05-12T03:16:52.341835Z",
          "start_time": "2021-05-12T03:16:52.334323Z"
        },
        "id": "DOLvPSKRNRc3",
        "outputId": "ceee7de5-7680-4689-fbd1-9d5b8e47dca5"
      },
      "source": [
        "np.linalg.inv(B) #B的反矩陣"
      ],
      "execution_count": null,
      "outputs": [
        {
          "data": {
            "text/plain": [
              "array([[ 1., -1.],\n",
              "       [-2.,  3.]])"
            ]
          },
          "execution_count": 17,
          "metadata": {},
          "output_type": "execute_result"
        }
      ]
    }
  ]
}