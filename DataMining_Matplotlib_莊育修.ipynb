{
  "nbformat": 4,
  "nbformat_minor": 0,
  "metadata": {
    "kernelspec": {
      "display_name": "Python 3",
      "language": "python",
      "name": "python3"
    },
    "language_info": {
      "codemirror_mode": {
        "name": "ipython",
        "version": 3
      },
      "file_extension": ".py",
      "mimetype": "text/x-python",
      "name": "python",
      "nbconvert_exporter": "python",
      "pygments_lexer": "ipython3",
      "version": "3.8.5"
    },
    "toc": {
      "base_numbering": 1,
      "nav_menu": {},
      "number_sections": true,
      "sideBar": true,
      "skip_h1_title": false,
      "title_cell": "Table of Contents",
      "title_sidebar": "Contents",
      "toc_cell": false,
      "toc_position": {},
      "toc_section_display": true,
      "toc_window_display": false
    },
    "varInspector": {
      "cols": {
        "lenName": 16,
        "lenType": 16,
        "lenVar": 40
      },
      "kernels_config": {
        "python": {
          "delete_cmd_postfix": "",
          "delete_cmd_prefix": "del ",
          "library": "var_list.py",
          "varRefreshCmd": "print(var_dic_list())"
        },
        "r": {
          "delete_cmd_postfix": ") ",
          "delete_cmd_prefix": "rm(",
          "library": "var_list.r",
          "varRefreshCmd": "cat(var_dic_list()) "
        }
      },
      "types_to_exclude": [
        "module",
        "function",
        "builtin_function_or_method",
        "instance",
        "_Feature"
      ],
      "window_display": false
    },
    "colab": {
      "name": "DataMining_Matplotlib_莊育修.ipynb",
      "provenance": [],
      "include_colab_link": true
    }
  },
  "cells": [
    {
      "cell_type": "markdown",
      "metadata": {
        "id": "view-in-github",
        "colab_type": "text"
      },
      "source": [
        "<a href=\"https://colab.research.google.com/github/vicar1987/Data_Mining_class_practice/blob/main/DataMining_Matplotlib_%E8%8E%8A%E8%82%B2%E4%BF%AE.ipynb\" target=\"_parent\"><img src=\"https://colab.research.google.com/assets/colab-badge.svg\" alt=\"Open In Colab\"/></a>"
      ]
    },
    {
      "cell_type": "raw",
      "metadata": {
        "id": "8xLyJRkkNuVB"
      },
      "source": [
        "#畫曲線\n",
        "from matplotlib import pyplot as pl\n",
        "#pl.subplot (211)畫個藍色三角虛線曲線 y1曲線，pl.subplot(212)也畫個綠色圓形實線曲線 y2曲線\n",
        "\n",
        "x = range(-8, 8)\n",
        "y1 = [2*i**2+i - 1 for i in x]\n",
        "y2 = [3 * i ** 3 - 6 * i - 9 for i in x]"
      ]
    },
    {
      "cell_type": "code",
      "metadata": {
        "ExecuteTime": {
          "end_time": "2021-05-13T02:46:28.820827Z",
          "start_time": "2021-05-13T02:46:28.445978Z"
        },
        "id": "ycm92s9MNuVE"
      },
      "source": [
        "from matplotlib import pyplot as pl"
      ],
      "execution_count": null,
      "outputs": []
    },
    {
      "cell_type": "code",
      "metadata": {
        "ExecuteTime": {
          "end_time": "2021-05-13T02:47:42.560394Z",
          "start_time": "2021-05-13T02:47:42.554755Z"
        },
        "id": "mTbfjziZNuVG"
      },
      "source": [
        "x = range(-8, 8)\n",
        "y1 = [2*i**2+i - 1 for i in x]\n",
        "y2 = [3 * i ** 3 - 6 * i - 9 for i in x]"
      ],
      "execution_count": null,
      "outputs": []
    },
    {
      "cell_type": "code",
      "metadata": {
        "ExecuteTime": {
          "end_time": "2021-05-13T02:53:09.557033Z",
          "start_time": "2021-05-13T02:53:09.406651Z"
        },
        "id": "5FTabnyaNuVH",
        "outputId": "5167332e-e0d8-4064-8934-1751e62fd350"
      },
      "source": [
        "pl.subplot(211)\n",
        "pl.plot(x, y1, 'b--^', label=u'y1=x^3+2x^2+x-1')\n",
        "pl.legend()\n",
        "pl.xticks([-8, -6, -4, -2, 0, 2, 4, 6, 8])\n",
        "pl.title('HomeWork 1')\n",
        "pl.xlabel('x-axe1')\n",
        "pl.ylabel('y1-axe1')"
      ],
      "execution_count": null,
      "outputs": [
        {
          "data": {
            "text/plain": [
              "Text(0, 0.5, 'y1-axe1')"
            ]
          },
          "execution_count": 6,
          "metadata": {},
          "output_type": "execute_result"
        },
        {
          "data": {
            "image/png": "[encoded data removed]",
            "text/plain": [
              "<Figure size 432x288 with 1 Axes>"
            ]
          },
          "metadata": {
            "needs_background": "light"
          },
          "output_type": "display_data"
        }
      ]
    },
    {
      "cell_type": "code",
      "metadata": {
        "ExecuteTime": {
          "end_time": "2021-05-13T02:54:20.586251Z",
          "start_time": "2021-05-13T02:54:20.450172Z"
        },
        "id": "p4J-4uWDNuVI",
        "outputId": "6720d813-0abe-4e89-daa4-1d753e041440"
      },
      "source": [
        "pl.subplot(212)\n",
        "pl.plot(x, y2, 'og-', label=u'y1=x^3+2x^2+x-1')\n",
        "pl.legend()\n",
        "pl.xticks([-8, -6, -4, -2, 0, 2, 4, 6, 8])\n",
        "pl.title('HomeWork 2')\n",
        "pl.xlabel('x-axe1')\n",
        "pl.ylabel('y2-axe1')"
      ],
      "execution_count": null,
      "outputs": [
        {
          "data": {
            "text/plain": [
              "Text(0, 0.5, 'y2-axe1')"
            ]
          },
          "execution_count": 8,
          "metadata": {},
          "output_type": "execute_result"
        },
        {
          "data": {
            "image/png": "[encoded data removed]",
            "text/plain": [
              "<Figure size 432x288 with 1 Axes>"
            ]
          },
          "metadata": {
            "needs_background": "light"
          },
          "output_type": "display_data"
        }
      ]
    },
    {
      "cell_type": "code",
      "metadata": {
        "id": "TST68hPvNuVJ"
      },
      "source": [
        ""
      ],
      "execution_count": null,
      "outputs": []
    },
    {
      "cell_type": "raw",
      "metadata": {
        "id": "pVzvN7RTNuVJ"
      },
      "source": [
        "#畫餅型圖\n",
        "labels = 'Lakers', 'Bucks', 'Nets', 'Jazz'\n",
        "sizes = [25, 30, 25, 20]\n",
        "explode = (0, 0.2, 0, 0)"
      ]
    },
    {
      "cell_type": "code",
      "metadata": {
        "ExecuteTime": {
          "end_time": "2021-05-13T02:58:26.775251Z",
          "start_time": "2021-05-13T02:58:26.666904Z"
        },
        "id": "GtWcAP6wNuVK",
        "outputId": "c8bebb52-8ecb-4505-d25c-b75c553f7728"
      },
      "source": [
        "labels = 'Lakers', 'Bucks', 'Nets', 'Jazz'\n",
        "sizes = [25, 30, 25, 20]\n",
        "explode = (0, 0.2, 0, 0)\n",
        "\n",
        "fig1, ax1 = pl.subplots()\n",
        "ax1.pie(sizes, explode=explode, labels=labels, autopct='%1.1f%%',\n",
        "        shadow=True, startangle=90)\n",
        "ax1.axis('equal')\n",
        "pl.show()"
      ],
      "execution_count": null,
      "outputs": [
        {
          "data": {
            "image/png": "[encoded data removed]",
            "text/plain": [
              "<Figure size 432x288 with 1 Axes>"
            ]
          },
          "metadata": {},
          "output_type": "display_data"
        }
      ]
    }
  ]
}